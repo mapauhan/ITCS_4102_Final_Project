{
 "cells": [
  {
   "cell_type": "markdown",
   "metadata": {},
   "source": [
    "### Authors: Fatih Agirtmis, Maria Handschu, Ryan Amarsingh"
   ]
  },
  {
   "cell_type": "markdown",
   "metadata": {},
   "source": [
    "# Input & Output in Python"
   ]
  },
  {
   "cell_type": "code",
   "execution_count": 1,
   "metadata": {},
   "outputs": [
    {
     "name": "stdout",
     "output_type": "stream",
     "text": [
      "Packages Imported.\n"
     ]
    }
   ],
   "source": [
    "import sys\n",
    "import csv\n",
    "import time\n",
    "import colorama\n",
    "import pandas as pd\n",
    "import numpy as np\n",
    "import seaborn as sns\n",
    "import matplotlib.pyplot as plt\n",
    "\n",
    "from colorama import init\n",
    "from selenium import webdriver\n",
    "from colorama import Fore, Back, Style\n",
    "print(\"Packages Imported.\")"
   ]
  },
  {
   "cell_type": "markdown",
   "metadata": {},
   "source": [
    "## Input "
   ]
  },
  {
   "cell_type": "code",
   "execution_count": 2,
   "metadata": {},
   "outputs": [],
   "source": [
    "filename = '/Users/fagirtmi1/Documents/UNCC/Coursework/Senior_Year/Fall_2018/ITCS_4102/Project/Assignment_1/Datasets/Youtube/data.csv'"
   ]
  },
  {
   "cell_type": "code",
   "execution_count": 3,
   "metadata": {},
   "outputs": [],
   "source": [
    "# You the python data-structure 'dataframes' to load the csv\n",
    "data = pd.read_csv(filename)"
   ]
  },
  {
   "cell_type": "markdown",
   "metadata": {},
   "source": [
    "## Output "
   ]
  },
  {
   "cell_type": "markdown",
   "metadata": {},
   "source": [
    "<b>Output Example 1</b>: Return the top ten rows in the dataset "
   ]
  },
  {
   "cell_type": "code",
   "execution_count": 5,
   "metadata": {},
   "outputs": [
    {
     "name": "stdout",
     "output_type": "stream",
     "text": [
      "\u001b[32m\u001b[1m\n",
      "Top 10 rows in Youtube dataset.\n",
      "\n",
      "   Rank Grade                Channel name Video Uploads Subscribers  \\\n",
      "0   1st  A++                       Zee TV         82757    18752951   \n",
      "1   2nd  A++                     T-Series         12661    61196302   \n",
      "2   3rd  A++   Cocomelon - Nursery Rhymes           373    19238251   \n",
      "3   4th  A++                    SET India         27323    31180559   \n",
      "4   5th  A++                          WWE         36756    32852346   \n",
      "5   6th  A++                   Movieclips         30243    17149705   \n",
      "6   7th  A++                   netd müzik          8500    11373567   \n",
      "7   8th  A++        ABS-CBN Entertainment        100147    12149206   \n",
      "8   9th  A++              Ryan ToysReview          1140    16082927   \n",
      "9  10th  A++                  Zee Marathi         74607     2841811   \n",
      "\n",
      "   Video views  \n",
      "0  20869786591  \n",
      "1  47548839843  \n",
      "2   9793305082  \n",
      "3  22675948293  \n",
      "4  26273668433  \n",
      "5  16618094724  \n",
      "6  23898730764  \n",
      "7  17202609850  \n",
      "8  24518098041  \n",
      "9   2591830307  \n"
     ]
    }
   ],
   "source": [
    "print(Fore.GREEN +  Style.BRIGHT + \"\\nTop 10 rows in Youtube dataset.\\n\")\n",
    "print(data.head(10))"
   ]
  },
  {
   "cell_type": "markdown",
   "metadata": {},
   "source": [
    "<b>Output Example 2</b>: Use the 'info' method in the pandas dataframe library to return high-level information about\n",
    "the Youtube dataset (memory usuage, data types, etc.. )"
   ]
  },
  {
   "cell_type": "code",
   "execution_count": 6,
   "metadata": {},
   "outputs": [
    {
     "name": "stdout",
     "output_type": "stream",
     "text": [
      "\u001b[32m\u001b[1m\n",
      "Youtube dataset high-level info.\n",
      "\n",
      "<class 'pandas.core.frame.DataFrame'>\n",
      "RangeIndex: 5000 entries, 0 to 4999\n",
      "Data columns (total 6 columns):\n",
      "Rank             5000 non-null object\n",
      "Grade            5000 non-null object\n",
      "Channel name     5000 non-null object\n",
      "Video Uploads    5000 non-null object\n",
      "Subscribers      5000 non-null object\n",
      "Video views      5000 non-null int64\n",
      "dtypes: int64(1), object(5)\n",
      "memory usage: 234.5+ KB\n",
      "None\n"
     ]
    }
   ],
   "source": [
    "print(Fore.GREEN +  Style.BRIGHT + \"\\nYoutube dataset high-level info.\\n\")\n",
    "print(data.info())"
   ]
  },
  {
   "cell_type": "markdown",
   "metadata": {},
   "source": [
    "<b>Output Example 3</b>: Use the 'description' method in the pandas dataframe library and pass 'include=[np.number]' \n",
    "to get statitical information regarding only numeric columns"
   ]
  },
  {
   "cell_type": "code",
   "execution_count": 7,
   "metadata": {},
   "outputs": [
    {
     "name": "stdout",
     "output_type": "stream",
     "text": [
      "\u001b[32m\u001b[1m\n",
      "Youtube numerical columns description.\n",
      "\n",
      "        Video views\n",
      "count  5.000000e+03\n",
      "mean   1.071449e+09\n",
      "std    2.003844e+09\n",
      "min    7.500000e+01\n",
      "25%    1.862329e+08\n",
      "50%    4.820548e+08\n",
      "75%    1.124368e+09\n",
      "max    4.754884e+10\n"
     ]
    }
   ],
   "source": [
    "print(Fore.GREEN +  Style.BRIGHT + \"\\nYoutube numerical columns description.\\n\")\n",
    "print(data.describe(include=[np.number]))"
   ]
  },
  {
   "cell_type": "markdown",
   "metadata": {},
   "source": [
    "<b>Output Example 4</b>: Use the 'isna()' method in the pandas dataframe library to check if there are any null values in the Youtube dataset "
   ]
  },
  {
   "cell_type": "code",
   "execution_count": 8,
   "metadata": {},
   "outputs": [
    {
     "name": "stdout",
     "output_type": "stream",
     "text": [
      "\u001b[32m\u001b[1m\n",
      "Check for any null values in the Youtube dataset.\n",
      "\n",
      "Rank             0\n",
      "Grade            0\n",
      "Channel name     0\n",
      "Video Uploads    0\n",
      "Subscribers      0\n",
      "Video views      0\n",
      "dtype: int64\n"
     ]
    }
   ],
   "source": [
    "print(Fore.GREEN +  Style.BRIGHT + \"\\nCheck for any null values in the Youtube dataset.\\n\")\n",
    "print(data.isna().sum())"
   ]
  }
 ],
 "metadata": {
  "kernelspec": {
   "display_name": "Python 3",
   "language": "python",
   "name": "python3"
  },
  "language_info": {
   "codemirror_mode": {
    "name": "ipython",
    "version": 3
   },
   "file_extension": ".py",
   "mimetype": "text/x-python",
   "name": "python",
   "nbconvert_exporter": "python",
   "pygments_lexer": "ipython3",
   "version": "3.6.4"
  }
 },
 "nbformat": 4,
 "nbformat_minor": 2
}
