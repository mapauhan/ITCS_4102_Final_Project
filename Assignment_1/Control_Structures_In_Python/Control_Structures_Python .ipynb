{
 "cells": [
  {
   "cell_type": "markdown",
   "metadata": {},
   "source": [
    "### Authors: Fatih Agirtmis, Maria Handschu, Ryan Amarsingh"
   ]
  },
  {
   "cell_type": "markdown",
   "metadata": {},
   "source": [
    "# Control Structures in Python"
   ]
  },
  {
   "cell_type": "markdown",
   "metadata": {},
   "source": [
    "For this assignment, we decided to focus on Boolean expressions and if statements for our Control Structures. We did \n",
    "however, utilize loops and lists (other control structures) in this process as well. Please reach out if you have any questions or concerns."
   ]
  },
  {
   "cell_type": "code",
   "execution_count": 28,
   "metadata": {},
   "outputs": [
    {
     "name": "stdout",
     "output_type": "stream",
     "text": [
      "Packages Imported.\n"
     ]
    }
   ],
   "source": [
    "import sys\n",
    "import csv\n",
    "import time\n",
    "import colorama\n",
    "import pandas as pd\n",
    "import numpy as np\n",
    "import seaborn as sns\n",
    "import matplotlib.pyplot as plt\n",
    "\n",
    "from colorama import init\n",
    "from selenium import webdriver\n",
    "from colorama import Fore, Back, Style\n",
    "print(\"Packages Imported.\")"
   ]
  },
  {
   "cell_type": "code",
   "execution_count": 29,
   "metadata": {},
   "outputs": [],
   "source": [
    "filename = '/Users/fagirtmi1/Documents/UNCC/Coursework/Senior_Year/Fall_2018/ITCS_4102/Project/Assignment_1/Datasets/Youtube/data.csv'"
   ]
  },
  {
   "cell_type": "code",
   "execution_count": 30,
   "metadata": {},
   "outputs": [],
   "source": [
    "# You the python data-structure 'dataframes' to load the csv\n",
    "data = pd.read_csv(filename)"
   ]
  },
  {
   "cell_type": "code",
   "execution_count": 31,
   "metadata": {},
   "outputs": [
    {
     "data": {
      "text/html": [
       "<div>\n",
       "<style scoped>\n",
       "    .dataframe tbody tr th:only-of-type {\n",
       "        vertical-align: middle;\n",
       "    }\n",
       "\n",
       "    .dataframe tbody tr th {\n",
       "        vertical-align: top;\n",
       "    }\n",
       "\n",
       "    .dataframe thead th {\n",
       "        text-align: right;\n",
       "    }\n",
       "</style>\n",
       "<table border=\"1\" class=\"dataframe\">\n",
       "  <thead>\n",
       "    <tr style=\"text-align: right;\">\n",
       "      <th></th>\n",
       "      <th>Rank</th>\n",
       "      <th>Grade</th>\n",
       "      <th>Channel name</th>\n",
       "      <th>Video Uploads</th>\n",
       "      <th>Subscribers</th>\n",
       "      <th>Video views</th>\n",
       "    </tr>\n",
       "  </thead>\n",
       "  <tbody>\n",
       "    <tr>\n",
       "      <th>0</th>\n",
       "      <td>1st</td>\n",
       "      <td>A++</td>\n",
       "      <td>Zee TV</td>\n",
       "      <td>82757</td>\n",
       "      <td>18752951</td>\n",
       "      <td>20869786591</td>\n",
       "    </tr>\n",
       "    <tr>\n",
       "      <th>1</th>\n",
       "      <td>2nd</td>\n",
       "      <td>A++</td>\n",
       "      <td>T-Series</td>\n",
       "      <td>12661</td>\n",
       "      <td>61196302</td>\n",
       "      <td>47548839843</td>\n",
       "    </tr>\n",
       "    <tr>\n",
       "      <th>2</th>\n",
       "      <td>3rd</td>\n",
       "      <td>A++</td>\n",
       "      <td>Cocomelon - Nursery Rhymes</td>\n",
       "      <td>373</td>\n",
       "      <td>19238251</td>\n",
       "      <td>9793305082</td>\n",
       "    </tr>\n",
       "    <tr>\n",
       "      <th>3</th>\n",
       "      <td>4th</td>\n",
       "      <td>A++</td>\n",
       "      <td>SET India</td>\n",
       "      <td>27323</td>\n",
       "      <td>31180559</td>\n",
       "      <td>22675948293</td>\n",
       "    </tr>\n",
       "    <tr>\n",
       "      <th>4</th>\n",
       "      <td>5th</td>\n",
       "      <td>A++</td>\n",
       "      <td>WWE</td>\n",
       "      <td>36756</td>\n",
       "      <td>32852346</td>\n",
       "      <td>26273668433</td>\n",
       "    </tr>\n",
       "    <tr>\n",
       "      <th>5</th>\n",
       "      <td>6th</td>\n",
       "      <td>A++</td>\n",
       "      <td>Movieclips</td>\n",
       "      <td>30243</td>\n",
       "      <td>17149705</td>\n",
       "      <td>16618094724</td>\n",
       "    </tr>\n",
       "    <tr>\n",
       "      <th>6</th>\n",
       "      <td>7th</td>\n",
       "      <td>A++</td>\n",
       "      <td>netd müzik</td>\n",
       "      <td>8500</td>\n",
       "      <td>11373567</td>\n",
       "      <td>23898730764</td>\n",
       "    </tr>\n",
       "    <tr>\n",
       "      <th>7</th>\n",
       "      <td>8th</td>\n",
       "      <td>A++</td>\n",
       "      <td>ABS-CBN Entertainment</td>\n",
       "      <td>100147</td>\n",
       "      <td>12149206</td>\n",
       "      <td>17202609850</td>\n",
       "    </tr>\n",
       "    <tr>\n",
       "      <th>8</th>\n",
       "      <td>9th</td>\n",
       "      <td>A++</td>\n",
       "      <td>Ryan ToysReview</td>\n",
       "      <td>1140</td>\n",
       "      <td>16082927</td>\n",
       "      <td>24518098041</td>\n",
       "    </tr>\n",
       "    <tr>\n",
       "      <th>9</th>\n",
       "      <td>10th</td>\n",
       "      <td>A++</td>\n",
       "      <td>Zee Marathi</td>\n",
       "      <td>74607</td>\n",
       "      <td>2841811</td>\n",
       "      <td>2591830307</td>\n",
       "    </tr>\n",
       "  </tbody>\n",
       "</table>\n",
       "</div>"
      ],
      "text/plain": [
       "   Rank Grade                Channel name Video Uploads Subscribers  \\\n",
       "0   1st  A++                       Zee TV         82757    18752951   \n",
       "1   2nd  A++                     T-Series         12661    61196302   \n",
       "2   3rd  A++   Cocomelon - Nursery Rhymes           373    19238251   \n",
       "3   4th  A++                    SET India         27323    31180559   \n",
       "4   5th  A++                          WWE         36756    32852346   \n",
       "5   6th  A++                   Movieclips         30243    17149705   \n",
       "6   7th  A++                   netd müzik          8500    11373567   \n",
       "7   8th  A++        ABS-CBN Entertainment        100147    12149206   \n",
       "8   9th  A++              Ryan ToysReview          1140    16082927   \n",
       "9  10th  A++                  Zee Marathi         74607     2841811   \n",
       "\n",
       "   Video views  \n",
       "0  20869786591  \n",
       "1  47548839843  \n",
       "2   9793305082  \n",
       "3  22675948293  \n",
       "4  26273668433  \n",
       "5  16618094724  \n",
       "6  23898730764  \n",
       "7  17202609850  \n",
       "8  24518098041  \n",
       "9   2591830307  "
      ]
     },
     "execution_count": 31,
     "metadata": {},
     "output_type": "execute_result"
    }
   ],
   "source": [
    "# Take a peak at the dataset by getting the top 10 rows\n",
    "data.head(10)"
   ]
  },
  {
   "cell_type": "markdown",
   "metadata": {},
   "source": [
    "## `if` Statements"
   ]
  },
  {
   "cell_type": "markdown",
   "metadata": {},
   "source": [
    "You can use `if` statements to run code if certain condition holds. If an expression evaluates to `True`, some statements are carried out. Otherwise, they aren't carried out.\n",
    "An `if` statements looks like this:\n",
    "```python\n",
    "if expression:\n",
    "  statements\n",
    "```"
   ]
  },
  {
   "cell_type": "markdown",
   "metadata": {},
   "source": [
    "Python uses __indentation__ (white space at beginning of a line) to delimit block of code. Other languages, such as C, use curly braces to accomplish this, but in Python indentation is mandatory; programs won't work without it. As you can see, the statements in the `if` should be indented."
   ]
  },
  {
   "cell_type": "markdown",
   "metadata": {},
   "source": [
    "Here is an example `if` statement:"
   ]
  },
  {
   "cell_type": "code",
   "execution_count": 32,
   "metadata": {},
   "outputs": [
    {
     "name": "stdout",
     "output_type": "stream",
     "text": [
      "1st 20869786591\n",
      "2nd 47548839843\n",
      "3rd 9793305082\n",
      "4th 22675948293\n",
      "5th 26273668433\n",
      "6th 16618094724\n",
      "7th 23898730764\n",
      "8th 17202609850\n",
      "9th 24518098041\n",
      "10th 2591830307\n"
     ]
    }
   ],
   "source": [
    "# Print the top ten Ranks and Video Views of the Youtube dataset \n",
    "for index, row in data.iterrows():\n",
    "    print(row['Rank'], row['Video views'])\n",
    "    if(index >= 9): # Break after the first ten values\n",
    "        break"
   ]
  },
  {
   "cell_type": "markdown",
   "metadata": {},
   "source": [
    "In this example, we are looping through the Youtube dataset and returning the top ten values with \n",
    "regard to the Rank and Video Views columns by an if statement that breaks when the index passes 9. \n",
    "Also, you can clearly see the importance of indentation as the if statement is nested in the for loop \n",
    "and the break statement inside if statement."
   ]
  },
  {
   "cell_type": "markdown",
   "metadata": {},
   "source": [
    "## `else` Statements"
   ]
  },
  {
   "cell_type": "markdown",
   "metadata": {},
   "source": [
    "An `else` statement follows an `if` statement, and contains code that is called when the if statement evaluates to `False`.\n",
    "As with `if` statements, the code inside the block should be indented."
   ]
  },
  {
   "cell_type": "markdown",
   "metadata": {},
   "source": [
    "Here is an example `elif` and `else` statement:"
   ]
  },
  {
   "cell_type": "code",
   "execution_count": 34,
   "metadata": {},
   "outputs": [],
   "source": [
    "data.Subscribers = pd.to_numeric(data.Subscribers, errors='coerce') # cast Subscribers from an objec to a numeric datatype\n",
    "\n",
    "# Create a list to store the data\n",
    "subscriber_grades = []\n",
    "\n",
    "# For each row in the column,\n",
    "for row in data['Subscribers']:\n",
    "    # if more than a value,\n",
    "    if row > 1000000:\n",
    "        # Append a letter grade\n",
    "        subscriber_grades.append('A')\n",
    "    # else, if more than a value,\n",
    "    elif row > 500000:\n",
    "        # Append a letter grade\n",
    "        subscriber_grades.append('A-')\n",
    "    # else, if more than a value,\n",
    "    elif row > 250000:\n",
    "        # Append a letter grade\n",
    "        subscriber_grades.append('B')\n",
    "    # else, if more than a value,\n",
    "    elif row > 100000:\n",
    "        # Append a letter grade\n",
    "        subscriber_grades.append('B-')\n",
    "    # else, if more than a value,\n",
    "    elif row > 50000:\n",
    "        # Append a letter grade\n",
    "        subscriber_grades.append('C')\n",
    "    # else, if more than a value,\n",
    "    elif row > 10000:\n",
    "        # Append a letter grade\n",
    "        subscriber_grades.append('C-')\n",
    "    else:\n",
    "        # Append a failing grade\n",
    "        subscriber_grades.append('Failed')\n",
    "        \n",
    "# Create a column from the list\n",
    "data['Subscriber Grades'] = subscriber_grades"
   ]
  },
  {
   "cell_type": "markdown",
   "metadata": {},
   "source": [
    "In this example, we are creating an empty list called \"subscriber_grades\", where we aim to use if, elif, and else statements\n",
    "to populate this list and classify a rank or grade for the number of subscribers. "
   ]
  },
  {
   "cell_type": "code",
   "execution_count": 46,
   "metadata": {},
   "outputs": [
    {
     "data": {
      "text/html": [
       "<div>\n",
       "<style scoped>\n",
       "    .dataframe tbody tr th:only-of-type {\n",
       "        vertical-align: middle;\n",
       "    }\n",
       "\n",
       "    .dataframe tbody tr th {\n",
       "        vertical-align: top;\n",
       "    }\n",
       "\n",
       "    .dataframe thead th {\n",
       "        text-align: right;\n",
       "    }\n",
       "</style>\n",
       "<table border=\"1\" class=\"dataframe\">\n",
       "  <thead>\n",
       "    <tr style=\"text-align: right;\">\n",
       "      <th></th>\n",
       "      <th>Rank</th>\n",
       "      <th>Grade</th>\n",
       "      <th>Channel name</th>\n",
       "      <th>Video Uploads</th>\n",
       "      <th>Subscribers</th>\n",
       "      <th>Video views</th>\n",
       "      <th>Subscriber Grades</th>\n",
       "    </tr>\n",
       "  </thead>\n",
       "  <tbody>\n",
       "    <tr>\n",
       "      <th>0</th>\n",
       "      <td>1st</td>\n",
       "      <td>A++</td>\n",
       "      <td>Zee TV</td>\n",
       "      <td>82757</td>\n",
       "      <td>18752951.0</td>\n",
       "      <td>20869786591</td>\n",
       "      <td>A</td>\n",
       "    </tr>\n",
       "    <tr>\n",
       "      <th>1</th>\n",
       "      <td>2nd</td>\n",
       "      <td>A++</td>\n",
       "      <td>T-Series</td>\n",
       "      <td>12661</td>\n",
       "      <td>61196302.0</td>\n",
       "      <td>47548839843</td>\n",
       "      <td>A</td>\n",
       "    </tr>\n",
       "    <tr>\n",
       "      <th>2</th>\n",
       "      <td>3rd</td>\n",
       "      <td>A++</td>\n",
       "      <td>Cocomelon - Nursery Rhymes</td>\n",
       "      <td>373</td>\n",
       "      <td>19238251.0</td>\n",
       "      <td>9793305082</td>\n",
       "      <td>A</td>\n",
       "    </tr>\n",
       "    <tr>\n",
       "      <th>3</th>\n",
       "      <td>4th</td>\n",
       "      <td>A++</td>\n",
       "      <td>SET India</td>\n",
       "      <td>27323</td>\n",
       "      <td>31180559.0</td>\n",
       "      <td>22675948293</td>\n",
       "      <td>A</td>\n",
       "    </tr>\n",
       "    <tr>\n",
       "      <th>4</th>\n",
       "      <td>5th</td>\n",
       "      <td>A++</td>\n",
       "      <td>WWE</td>\n",
       "      <td>36756</td>\n",
       "      <td>32852346.0</td>\n",
       "      <td>26273668433</td>\n",
       "      <td>A</td>\n",
       "    </tr>\n",
       "  </tbody>\n",
       "</table>\n",
       "</div>"
      ],
      "text/plain": [
       "  Rank Grade                Channel name Video Uploads  Subscribers  \\\n",
       "0  1st  A++                       Zee TV         82757   18752951.0   \n",
       "1  2nd  A++                     T-Series         12661   61196302.0   \n",
       "2  3rd  A++   Cocomelon - Nursery Rhymes           373   19238251.0   \n",
       "3  4th  A++                    SET India         27323   31180559.0   \n",
       "4  5th  A++                          WWE         36756   32852346.0   \n",
       "\n",
       "   Video views Subscriber Grades  \n",
       "0  20869786591                 A  \n",
       "1  47548839843                 A  \n",
       "2   9793305082                 A  \n",
       "3  22675948293                 A  \n",
       "4  26273668433                 A  "
      ]
     },
     "execution_count": 46,
     "metadata": {},
     "output_type": "execute_result"
    }
   ],
   "source": [
    "data.head()"
   ]
  },
  {
   "cell_type": "markdown",
   "metadata": {},
   "source": [
    "We have now added a new column called \"subscriber_grades\" to our dataset."
   ]
  },
  {
   "cell_type": "markdown",
   "metadata": {},
   "source": [
    "## Boolean Logic"
   ]
  },
  {
   "cell_type": "markdown",
   "metadata": {},
   "source": [
    "Boolean logic is used to make more complicated conditions for `if` statements that rely on more than one condition.\n",
    "Python's Boolean operators are `and`, `or`, and `not`."
   ]
  },
  {
   "cell_type": "markdown",
   "metadata": {},
   "source": [
    "### *Boolean `and`*\n",
    "\n",
    "The `and` operator takes two arguments and evaluate to `True` if, and only if, both of its arguments are `True`.\n",
    "Otherwise, it evaluates to `False`.\n",
    "```python\n",
    "\n",
    ">>> 1 == 1 and 2 == 2\n",
    "True\n",
    ">>> 1 == 1 and 2 == 3\n",
    "False\n",
    ">>> 1 != 1 and 2 == 2\n",
    "False\n",
    ">>> 2 < 1 and 3 > 6\n",
    "False\n",
    "```"
   ]
  },
  {
   "cell_type": "markdown",
   "metadata": {},
   "source": [
    "### Example:"
   ]
  },
  {
   "cell_type": "code",
   "execution_count": 81,
   "metadata": {},
   "outputs": [
    {
     "name": "stdout",
     "output_type": "stream",
     "text": [
      "404 Alpha TV Greece\n",
      "1132 SETN三立新聞網\n",
      "1666 SBS 뉴스\n",
      "1748 SBS Culture\n",
      "1822 BrawlBRSTMs3 X\n",
      "2271 TVBUSAofficial\n",
      "2313 Truyền Hình Đồng Tháp\n",
      "2472 台灣蘋果日報\n",
      "2906 Televízia JOJ\n",
      "2915 VTV24\n",
      "2953 三立LIVE新聞\n",
      "3258 壹週刊 NEXT\n",
      "3297 GTV News\n",
      "3833 Doğan Music Company\n",
      "4112 民視綜合頻道\n",
      "4314 tvOneNews\n",
      "4540 İşte Benim Stilim\n",
      "4548 Colors Bangla\n",
      "4746 BeritaSatuTV\n",
      "4755 moviecollectionjp\n",
      "4881 Official iNews\n"
     ]
    }
   ],
   "source": [
    "data['Video Uploads'] = pd.to_numeric(data['Video Uploads'], errors='coerce') # cast Video Uploads from an objec to a numeric datatype\n",
    "\n",
    "for index, row in data.iterrows():\n",
    "    # if more than a value,\n",
    "    if row['Subscriber Grades'] == 'B' and row['Video Uploads'] > 10000:\n",
    "        print(index, row['Channel name'])\n",
    "        if(index >= 10000): # Break after the first ten values\n",
    "            break"
   ]
  },
  {
   "cell_type": "markdown",
   "metadata": {},
   "source": [
    "In this example, we're iterating through the Youtube dataset and checking for channel names that have subscriber grade \n",
    "of 'B' and a count of video uploads that are greater than 10000. "
   ]
  },
  {
   "cell_type": "markdown",
   "metadata": {},
   "source": [
    "### *Boolean `or`*\n",
    "The `or` operator also takes two arguments.\n",
    "It evaluates to `True` if either (or both) of its arguments are `True`, and `False` if both arguments are `False`.\n",
    "```python\n",
    ">>> 1 == 1 or 2 == 2\n",
    "True\n",
    ">>> 1 == 1 or 2 == 3\n",
    "True\n",
    ">>> 1 != 1 or 2 == 2\n",
    "True\n",
    ">>> 2 < 1 or 3 > 6\n",
    "False\n",
    "```"
   ]
  },
  {
   "cell_type": "markdown",
   "metadata": {},
   "source": [
    "### Example:"
   ]
  },
  {
   "cell_type": "code",
   "execution_count": null,
   "metadata": {},
   "outputs": [],
   "source": [
    "for index, row in data.iterrows():\n",
    "    # if more than a value,\n",
    "    if row['Subscriber Grades'] == 'B' or row['Subscriber Grades'] == 'C':\n",
    "        print(index, row['Channel name'], row['Subscriber Grades'])\n",
    "        if(index >= 1000): # Break after the first ten values\n",
    "            break"
   ]
  },
  {
   "cell_type": "markdown",
   "metadata": {},
   "source": [
    "In this example, we're iterating through the Youtube dataset and checking if 'Subscriber grade' is equal to B or C. "
   ]
  },
  {
   "cell_type": "markdown",
   "metadata": {},
   "source": [
    "### *Boolean Not*\n",
    "Unlike other operators we've seen so far, `not` only takes one argument, and inverts it.\n",
    "The result of `not True` is `False`, and `not False` goes to `True`.\n",
    "```python\n",
    ">>> not 1 == 1\n",
    "False\n",
    ">>> not 1 > 7\n",
    "True\n",
    "```\n",
    "You can chain multiple conditional statements in an `if` statement using the Boolean operators."
   ]
  }
 ],
 "metadata": {
  "kernelspec": {
   "display_name": "Python 3",
   "language": "python",
   "name": "python3"
  },
  "language_info": {
   "codemirror_mode": {
    "name": "ipython",
    "version": 3
   },
   "file_extension": ".py",
   "mimetype": "text/x-python",
   "name": "python",
   "nbconvert_exporter": "python",
   "pygments_lexer": "ipython3",
   "version": "3.6.4"
  }
 },
 "nbformat": 4,
 "nbformat_minor": 2
}
