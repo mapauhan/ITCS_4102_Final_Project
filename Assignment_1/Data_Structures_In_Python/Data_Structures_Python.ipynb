{
 "cells": [
  {
   "cell_type": "markdown",
   "metadata": {},
   "source": [
    "### Authors: Fatih Agirtmis, Maria Handschu, Ryan Amarsingh"
   ]
  },
  {
   "cell_type": "markdown",
   "metadata": {},
   "source": [
    "# Data Structures"
   ]
  },
  {
   "cell_type": "markdown",
   "metadata": {},
   "source": [
    "<b>Introduction:</b> The Data Structures we decided to focus on are Arrays, Stacks, and Queues and how they are implemented in Python."
   ]
  },
  {
   "cell_type": "code",
   "execution_count": 20,
   "metadata": {},
   "outputs": [
    {
     "name": "stdout",
     "output_type": "stream",
     "text": [
      "Packages Imported.\n"
     ]
    }
   ],
   "source": [
    "import sys\n",
    "import csv\n",
    "import time\n",
    "import colorama\n",
    "import pandas as pd\n",
    "import numpy as np\n",
    "import seaborn as sns\n",
    "import matplotlib.pyplot as plt\n",
    "\n",
    "from colorama import init\n",
    "from selenium import webdriver\n",
    "from colorama import Fore, Back, Style\n",
    "print(\"Packages Imported.\")"
   ]
  },
  {
   "cell_type": "markdown",
   "metadata": {},
   "source": [
    "# Arrays"
   ]
  },
  {
   "cell_type": "markdown",
   "metadata": {},
   "source": [
    "## What is an Array?"
   ]
  },
  {
   "cell_type": "markdown",
   "metadata": {},
   "source": [
    "- Array is a data structure that is used to store homogeneous elements at contiguous locations\n",
    "- One memory block is allocated for the entire array to hold the elements of the array. The array elements can be    accessed in constant time by using the index of the particular element as the subscript."
   ]
  },
  {
   "cell_type": "code",
   "execution_count": 11,
   "metadata": {},
   "outputs": [],
   "source": [
    "class Array(object):\n",
    "    \n",
    "    def __init__(self, sizeOfArray, arrayType = int):\n",
    "        self.sizeOfArray = len(list(map(arrayType, range(sizeOfArray))))\n",
    "        \n",
    "        # initialize array with zeroes\n",
    "        self.arrayItems =[arrayType(0)] * sizeOfArray   \n",
    "        \n",
    "    def __str__(self):\n",
    "            return ' '.join([str(i) for i in self.arrayItems])\n",
    "            \n",
    "    # function for search\n",
    "    def search(self, keyToSearch):\n",
    "        for i in range(self.sizeOfArray):\n",
    "            # brute-forcing\n",
    "            if (self.arrayItems[i] == keyToSearch):\n",
    "                return i # index at which element/ key was found\n",
    "            \n",
    "        # if key not found, return -1\n",
    "        return -1\n",
    "    \n",
    "    # function for inserting an element\n",
    "    def insert(self, keyToInsert, position):\n",
    "        if(self.sizeOfArray > position):\n",
    "            for i in range(self.sizeOfArray - 2, position - 1, -1):\n",
    "                self.arrayItems[i + 1] = self.arrayItems[i]\n",
    "            self.arrayItems[position] = keyToInsert\n",
    "        else:\n",
    "            print('Array size is:', self.sizeOfArray)\n",
    "            \n",
    "    # function to delete an element\n",
    "    def delete(self, keyToDelete, position):\n",
    "        if(self.sizeOfArray > position):\n",
    "            for i in range(position, self.sizeOfArray - 1):\n",
    "                self.arrayItems[i] = self.arrayItems[i + 1]\n",
    "        else:\n",
    "            print('Array size is:', self.sizeOfArray)"
   ]
  },
  {
   "cell_type": "code",
   "execution_count": 12,
   "metadata": {},
   "outputs": [
    {
     "name": "stdout",
     "output_type": "stream",
     "text": [
      "0 0 0 0 0 0 0 0 0 0\n"
     ]
    }
   ],
   "source": [
    "array = Array(10, int)\n",
    "print(array)"
   ]
  },
  {
   "cell_type": "markdown",
   "metadata": {},
   "source": [
    "### Common array operations:"
   ]
  },
  {
   "cell_type": "markdown",
   "metadata": {},
   "source": [
    "- Search\n",
    "- Insert\n",
    "- Delete"
   ]
  },
  {
   "cell_type": "markdown",
   "metadata": {},
   "source": [
    "### Time complexity:"
   ]
  },
  {
   "cell_type": "markdown",
   "metadata": {},
   "source": [
    "- Search: O(n)\n",
    "- Insert: O(n)\n",
    "- Delete: O(n)"
   ]
  },
  {
   "cell_type": "markdown",
   "metadata": {},
   "source": [
    "## Search Operation on Array:"
   ]
  },
  {
   "cell_type": "markdown",
   "metadata": {},
   "source": [
    "Search for a specific element of an array (in this case 10) by passing a given index"
   ]
  },
  {
   "cell_type": "code",
   "execution_count": 16,
   "metadata": {},
   "outputs": [
    {
     "name": "stdout",
     "output_type": "stream",
     "text": [
      "Element found at: 0\n"
     ]
    }
   ],
   "source": [
    "s = Array(10, int)\n",
    "index = s.search(0)\n",
    "print('Element found at:', index)"
   ]
  },
  {
   "cell_type": "markdown",
   "metadata": {},
   "source": [
    "## Insert Operation:"
   ]
  },
  {
   "cell_type": "markdown",
   "metadata": {},
   "source": [
    "Insert a value into the array by passing in the value and index of where you want to place the element. "
   ]
  },
  {
   "cell_type": "code",
   "execution_count": 17,
   "metadata": {},
   "outputs": [
    {
     "name": "stdout",
     "output_type": "stream",
     "text": [
      "0 0 1 2 3 0 0 0 0 0\n"
     ]
    }
   ],
   "source": [
    "i = Array(10, int)\n",
    "i.insert(1, 2)\n",
    "i.insert(2,3)\n",
    "i.insert(3,4)\n",
    "print(array)"
   ]
  },
  {
   "cell_type": "markdown",
   "metadata": {},
   "source": [
    "## Delete Operation:"
   ]
  },
  {
   "cell_type": "markdown",
   "metadata": {},
   "source": [
    "Remove a given element by passing the index value "
   ]
  },
  {
   "cell_type": "code",
   "execution_count": 19,
   "metadata": {},
   "outputs": [
    {
     "name": "stdout",
     "output_type": "stream",
     "text": [
      "0 0 1 2 0 0 0 0 0 0\n",
      "Element found at: 2\n"
     ]
    }
   ],
   "source": [
    "d = Array(10, int)\n",
    "d.insert(1, 2)\n",
    "d.insert(2,3)\n",
    "d.insert(3,4)\n",
    "d.delete(3, 4)\n",
    "print(d)\n",
    "index = d.search(1)\n",
    "print('Element found at:', index)"
   ]
  },
  {
   "cell_type": "markdown",
   "metadata": {},
   "source": [
    "### Disadvantages of Array\n",
    "- <b>Fixed size</b>: The size of the array is static (can be overcome using Dynamic Arrays)\n",
    "- <b>One block allocation</b>: To allocate the array itself at the beginning, sometimes it may not be possible to get the memory for the complete array\n",
    "- <b>Complex position-based insertion</b>: To insert an element at a given position, we may need to shift the existing elements. This will create a position for us to insert the new element at the desired position. If the position at which we want to add an element is at the beginning, then the shifting operation can become more expensive "
   ]
  },
  {
   "cell_type": "markdown",
   "metadata": {},
   "source": [
    "## Stacks:"
   ]
  },
  {
   "cell_type": "markdown",
   "metadata": {},
   "source": [
    "### What are Stacks?\n",
    "\n",
    "- A stack is a simple data structure used for storing data (similar to Linked Lists). In a stack, the order in which the data arrives is important.\n",
    "- A stack is an ordered list in which insertion and deletion are done at one end, called top. The last element inserted is the first one to be deleted. Hence, it is called the Last In First Out (LIFO) or First In Last Out (FILO) list."
   ]
  },
  {
   "cell_type": "markdown",
   "metadata": {},
   "source": [
    "### Applications of Stack:\n",
    "\n",
    "- Balancing of symbols\n",
    "- lnfix-to-postfix conversion\n",
    "- Evaluation of postfix expression\n",
    "- Implementing function calls (including recursion)\n",
    "- Page-visited history in a Web browser [Back Buttons]\n",
    "- Undo sequence in a text editor\n",
    "- Matching Tags in HTML and XML"
   ]
  },
  {
   "cell_type": "markdown",
   "metadata": {},
   "source": [
    "### Implementing Stack using Python Lists:"
   ]
  },
  {
   "cell_type": "markdown",
   "metadata": {},
   "source": [
    "### Implementing Singly Linked List:"
   ]
  },
  {
   "cell_type": "code",
   "execution_count": 21,
   "metadata": {},
   "outputs": [],
   "source": [
    "class Stack(object):\n",
    "    def __init__(self, limit = 10):\n",
    "        self.stack = []\n",
    "        self.limit = limit\n",
    "    \n",
    "    # for printing the stack contents\n",
    "    def __str__(self):\n",
    "        return ' '.join([str(i) for i in self.stack])\n",
    "    \n",
    "    # for pushing an element on to the stack\n",
    "    def push(self, data):\n",
    "        if len(self.stack) >= self.limit:\n",
    "            print('Stack Overflow')\n",
    "        else:\n",
    "            self.stack.append(data)\n",
    "            \n",
    "    # for popping the uppermost element\n",
    "    def pop(self):\n",
    "        if len(self.stack) <= 0:\n",
    "            print('Stack Underflow')\n",
    "        else:\n",
    "            self.stack.pop()\n",
    "            \n",
    "    # for peeking the top-most element of the stack\n",
    "    def peek(self):\n",
    "        if len(self.stack) <= 0:\n",
    "            print('Stack Underflow')\n",
    "        else:\n",
    "            return self.stack[-1]\n",
    "        \n",
    "    # to check if stack is empty\n",
    "    def isEmpty(self):\n",
    "        return len(self.stack) == []\n",
    "    \n",
    "    # for checking the size of stack\n",
    "    def size(self):\n",
    "        return len(self.stack)"
   ]
  },
  {
   "cell_type": "code",
   "execution_count": 23,
   "metadata": {},
   "outputs": [],
   "source": [
    "myStack = Stack()\n",
    "\n",
    "for i in range(10):\n",
    "    myStack.push(i)"
   ]
  },
  {
   "cell_type": "code",
   "execution_count": 25,
   "metadata": {},
   "outputs": [
    {
     "name": "stdout",
     "output_type": "stream",
     "text": [
      "0 1 2 3 4 5 6 7 8\n",
      "0 1 2 3 4 5 6 7\n"
     ]
    },
    {
     "data": {
      "text/plain": [
       "8"
      ]
     },
     "execution_count": 25,
     "metadata": {},
     "output_type": "execute_result"
    }
   ],
   "source": [
    "# popping the top element\n",
    "print(myStack)\n",
    "myStack.pop()\n",
    "\n",
    "# printing the top element\n",
    "print(myStack)\n",
    "myStack.peek() "
   ]
  },
  {
   "cell_type": "code",
   "execution_count": 27,
   "metadata": {},
   "outputs": [
    {
     "data": {
      "text/plain": [
       "False"
      ]
     },
     "execution_count": 27,
     "metadata": {},
     "output_type": "execute_result"
    }
   ],
   "source": [
    "# Checking if the Stack is empty \n",
    "myStack.isEmpty()"
   ]
  },
  {
   "cell_type": "code",
   "execution_count": 29,
   "metadata": {},
   "outputs": [
    {
     "data": {
      "text/plain": [
       "8"
      ]
     },
     "execution_count": 29,
     "metadata": {},
     "output_type": "execute_result"
    }
   ],
   "source": [
    "# Checking the size of the stack \n",
    "myStack.size()"
   ]
  },
  {
   "cell_type": "markdown",
   "metadata": {},
   "source": [
    "### Time Complexities:\n",
    "- Push: O(1)\n",
    "- Pop: O(1)\n",
    "- Peek: O(1)\n",
    "- isEmpty: O(1)\n",
    "- Size: O(1)"
   ]
  },
  {
   "cell_type": "markdown",
   "metadata": {},
   "source": [
    "### Limitations:\n",
    "- Stack size must be defined first and cannot be changed\n",
    "- Trying to push a new element into a full stack causes an implementation-specific exception"
   ]
  },
  {
   "cell_type": "markdown",
   "metadata": {},
   "source": [
    "## Queues:"
   ]
  },
  {
   "cell_type": "markdown",
   "metadata": {},
   "source": [
    "### What is a Queue?\n",
    "- A queue is a data structure used for storing data (similar to Linked Lists and stacks)\n",
    "- A queue is an ordered list in which insertions are done at one end (rear) and deletions are done at other end (front). The first element to be inserted is the first one to be deleted. Hence, it is called First in First out (FIFO) or Last in Last out (LILO) list."
   ]
  },
  {
   "cell_type": "markdown",
   "metadata": {},
   "source": [
    "### Applications of Queue:\n",
    "- When a resource is shared among multiple consumers. Examples include CPU scheduling, Disk Scheduling.\n",
    "- When data is transferred asynchronously (data not necessarily received at same rate as sent) between two processes.   Examples include IO Buffers, pipes, file IO, etc.\n",
    "- Keyboard: As we type, sometimes keystrokes get ahead of the characters that appear on the screen. This is due to the   computer doing other work at that moment. The keystrokes are being placed in a queue-like buffer so that they can   eventually be displayed on the screen in the proper order."
   ]
  },
  {
   "cell_type": "code",
   "execution_count": 30,
   "metadata": {},
   "outputs": [],
   "source": [
    "class Queue(object):\n",
    "    def __init__(self, limit = 10):\n",
    "        self.queue = []\n",
    "        self.front = None\n",
    "        self.rear = None\n",
    "        self.limit = limit\n",
    "        self.size = 0\n",
    "     \n",
    "    def __str__(self):\n",
    "        return ' '.join([str(i) for i in self.queue])\n",
    "    \n",
    "    # to check if queue is empty\n",
    "    def isEmpty(self):\n",
    "        return self.size <= 0\n",
    "    \n",
    "    # to add an element from the rear end of the queue\n",
    "    def enqueue(self, data):\n",
    "        if self.size >= self.limit:\n",
    "            # queue overflow\n",
    "            return -1       \n",
    "        else:\n",
    "            self.queue.append(data)\n",
    "        \n",
    "        # assign the rear as size of the queue and front as 0\n",
    "        if self.front is None:\n",
    "            self.front = self.rear = 0\n",
    "        else:\n",
    "            self.rear = self.size\n",
    "            \n",
    "        self.size += 1\n",
    "    \n",
    "    # to pop an element from the front end of the queue\n",
    "    def dequeue(self):\n",
    "        if self.isEmpty():\n",
    "            # queue underflow\n",
    "            return -1          \n",
    "        else:\n",
    "            self.queue.pop()\n",
    "            self.size -= 1\n",
    "            if self.size == 0:\n",
    "                self.front = self.rear = 0\n",
    "            else:\n",
    "                self.rear = self.size - 1\n",
    "    \n",
    "    def getSize(self):\n",
    "        return self.size"
   ]
  },
  {
   "cell_type": "code",
   "execution_count": 31,
   "metadata": {},
   "outputs": [],
   "source": [
    "# Define a Queue\n",
    "myQueue = Queue()\n",
    "for i in range(10):\n",
    "    myQueue.enqueue(i)"
   ]
  },
  {
   "cell_type": "code",
   "execution_count": 32,
   "metadata": {},
   "outputs": [
    {
     "name": "stdout",
     "output_type": "stream",
     "text": [
      "0 1 2 3 4 5 6 7 8 9\n",
      "Queue Size: 10\n"
     ]
    }
   ],
   "source": [
    "# Get the size of the Queue \n",
    "print(myQueue)\n",
    "print('Queue Size:', myQueue.getSize())"
   ]
  },
  {
   "cell_type": "code",
   "execution_count": 34,
   "metadata": {},
   "outputs": [
    {
     "name": "stdout",
     "output_type": "stream",
     "text": [
      "0 1 2 3 4 5 6 7\n",
      "Queue Size: 8\n"
     ]
    }
   ],
   "source": [
    "# Deque the queue and return the size\n",
    "myQueue.dequeue()\n",
    "print(myQueue)\n",
    "print('Queue Size:' ,myQueue.getSize())"
   ]
  },
  {
   "cell_type": "markdown",
   "metadata": {},
   "source": [
    "### Time Complexities:\n",
    "- enqueue(): O(1)\n",
    "- dequeue(): O(1)\n",
    "- isEmpty(): O(1)\n",
    "- getSize(): O(1)"
   ]
  },
  {
   "cell_type": "markdown",
   "metadata": {},
   "source": [
    "### Limitations:\n",
    "- The maximum size of the queue must be defined prior to the execution and cannot be changed"
   ]
  },
  {
   "cell_type": "markdown",
   "metadata": {},
   "source": [
    "### Extensions of Queue:\n",
    "- Deque (Double ended queue): Supports insert and delete at both the ends (front as well as rear) of the queue.\n",
    "- Circular Queue: A queue in which last position is connected back to front\n",
    "- Priority Queue: Elements are added based on their priorities (higher priority elements are popped first)"
   ]
  }
 ],
 "metadata": {
  "kernelspec": {
   "display_name": "Python 3",
   "language": "python",
   "name": "python3"
  },
  "language_info": {
   "codemirror_mode": {
    "name": "ipython",
    "version": 3
   },
   "file_extension": ".py",
   "mimetype": "text/x-python",
   "name": "python",
   "nbconvert_exporter": "python",
   "pygments_lexer": "ipython3",
   "version": "3.6.4"
  }
 },
 "nbformat": 4,
 "nbformat_minor": 2
}
